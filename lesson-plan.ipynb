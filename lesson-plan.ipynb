{
 "cells": [
  {
   "cell_type": "markdown",
   "metadata": {},
   "source": [
    "## Objectives\n",
    "YWBAT \n",
    "* write functions to calcualte statistics and apply those functions to a dataframe\n",
    "* write functions to plot distributions\n",
    "* interpret data based on the statistics\n",
    "* remove outliers from data by using pandas slicing\n",
    "* use pandas to create new columns"
   ]
  },
  {
   "cell_type": "code",
   "execution_count": 32,
   "metadata": {},
   "outputs": [],
   "source": [
    "from collections import defaultdict\n",
    "\n",
    "import numpy as np\n",
    "import pandas as pd\n",
    "\n",
    "from sklearn.datasets import load_wine\n",
    "from pprint import pprint\n",
    "\n",
    "import matplotlib.pyplot as plt"
   ]
  },
  {
   "cell_type": "markdown",
   "metadata": {},
   "source": [
    "### always do this step first when loading in a pre built dataset"
   ]
  },
  {
   "cell_type": "code",
   "execution_count": 35,
   "metadata": {},
   "outputs": [],
   "source": [
    "wine = load_wine()"
   ]
  },
  {
   "cell_type": "code",
   "execution_count": 38,
   "metadata": {},
   "outputs": [],
   "source": [
    "data = wine.data\n",
    "target = wine.target\n",
    "\n",
    "columns = wine.feature_names + [\"target\"]"
   ]
  },
  {
   "cell_type": "code",
   "execution_count": 39,
   "metadata": {},
   "outputs": [
    {
     "data": {
      "text/html": [
       "<div>\n",
       "<style scoped>\n",
       "    .dataframe tbody tr th:only-of-type {\n",
       "        vertical-align: middle;\n",
       "    }\n",
       "\n",
       "    .dataframe tbody tr th {\n",
       "        vertical-align: top;\n",
       "    }\n",
       "\n",
       "    .dataframe thead th {\n",
       "        text-align: right;\n",
       "    }\n",
       "</style>\n",
       "<table border=\"1\" class=\"dataframe\">\n",
       "  <thead>\n",
       "    <tr style=\"text-align: right;\">\n",
       "      <th></th>\n",
       "      <th>alcohol</th>\n",
       "      <th>malic_acid</th>\n",
       "      <th>ash</th>\n",
       "      <th>alcalinity_of_ash</th>\n",
       "      <th>magnesium</th>\n",
       "      <th>total_phenols</th>\n",
       "      <th>flavanoids</th>\n",
       "      <th>nonflavanoid_phenols</th>\n",
       "      <th>proanthocyanins</th>\n",
       "      <th>color_intensity</th>\n",
       "      <th>hue</th>\n",
       "      <th>od280/od315_of_diluted_wines</th>\n",
       "      <th>proline</th>\n",
       "      <th>target</th>\n",
       "    </tr>\n",
       "  </thead>\n",
       "  <tbody>\n",
       "    <tr>\n",
       "      <th>0</th>\n",
       "      <td>14.23</td>\n",
       "      <td>1.71</td>\n",
       "      <td>2.43</td>\n",
       "      <td>15.6</td>\n",
       "      <td>127.0</td>\n",
       "      <td>2.80</td>\n",
       "      <td>3.06</td>\n",
       "      <td>0.28</td>\n",
       "      <td>2.29</td>\n",
       "      <td>5.64</td>\n",
       "      <td>1.04</td>\n",
       "      <td>3.92</td>\n",
       "      <td>1065.0</td>\n",
       "      <td>0.0</td>\n",
       "    </tr>\n",
       "    <tr>\n",
       "      <th>1</th>\n",
       "      <td>13.20</td>\n",
       "      <td>1.78</td>\n",
       "      <td>2.14</td>\n",
       "      <td>11.2</td>\n",
       "      <td>100.0</td>\n",
       "      <td>2.65</td>\n",
       "      <td>2.76</td>\n",
       "      <td>0.26</td>\n",
       "      <td>1.28</td>\n",
       "      <td>4.38</td>\n",
       "      <td>1.05</td>\n",
       "      <td>3.40</td>\n",
       "      <td>1050.0</td>\n",
       "      <td>0.0</td>\n",
       "    </tr>\n",
       "    <tr>\n",
       "      <th>2</th>\n",
       "      <td>13.16</td>\n",
       "      <td>2.36</td>\n",
       "      <td>2.67</td>\n",
       "      <td>18.6</td>\n",
       "      <td>101.0</td>\n",
       "      <td>2.80</td>\n",
       "      <td>3.24</td>\n",
       "      <td>0.30</td>\n",
       "      <td>2.81</td>\n",
       "      <td>5.68</td>\n",
       "      <td>1.03</td>\n",
       "      <td>3.17</td>\n",
       "      <td>1185.0</td>\n",
       "      <td>0.0</td>\n",
       "    </tr>\n",
       "    <tr>\n",
       "      <th>3</th>\n",
       "      <td>14.37</td>\n",
       "      <td>1.95</td>\n",
       "      <td>2.50</td>\n",
       "      <td>16.8</td>\n",
       "      <td>113.0</td>\n",
       "      <td>3.85</td>\n",
       "      <td>3.49</td>\n",
       "      <td>0.24</td>\n",
       "      <td>2.18</td>\n",
       "      <td>7.80</td>\n",
       "      <td>0.86</td>\n",
       "      <td>3.45</td>\n",
       "      <td>1480.0</td>\n",
       "      <td>0.0</td>\n",
       "    </tr>\n",
       "    <tr>\n",
       "      <th>4</th>\n",
       "      <td>13.24</td>\n",
       "      <td>2.59</td>\n",
       "      <td>2.87</td>\n",
       "      <td>21.0</td>\n",
       "      <td>118.0</td>\n",
       "      <td>2.80</td>\n",
       "      <td>2.69</td>\n",
       "      <td>0.39</td>\n",
       "      <td>1.82</td>\n",
       "      <td>4.32</td>\n",
       "      <td>1.04</td>\n",
       "      <td>2.93</td>\n",
       "      <td>735.0</td>\n",
       "      <td>0.0</td>\n",
       "    </tr>\n",
       "  </tbody>\n",
       "</table>\n",
       "</div>"
      ],
      "text/plain": [
       "   alcohol  malic_acid   ash  alcalinity_of_ash  magnesium  total_phenols  \\\n",
       "0    14.23        1.71  2.43               15.6      127.0           2.80   \n",
       "1    13.20        1.78  2.14               11.2      100.0           2.65   \n",
       "2    13.16        2.36  2.67               18.6      101.0           2.80   \n",
       "3    14.37        1.95  2.50               16.8      113.0           3.85   \n",
       "4    13.24        2.59  2.87               21.0      118.0           2.80   \n",
       "\n",
       "   flavanoids  nonflavanoid_phenols  proanthocyanins  color_intensity   hue  \\\n",
       "0        3.06                  0.28             2.29             5.64  1.04   \n",
       "1        2.76                  0.26             1.28             4.38  1.05   \n",
       "2        3.24                  0.30             2.81             5.68  1.03   \n",
       "3        3.49                  0.24             2.18             7.80  0.86   \n",
       "4        2.69                  0.39             1.82             4.32  1.04   \n",
       "\n",
       "   od280/od315_of_diluted_wines  proline  target  \n",
       "0                          3.92   1065.0     0.0  \n",
       "1                          3.40   1050.0     0.0  \n",
       "2                          3.17   1185.0     0.0  \n",
       "3                          3.45   1480.0     0.0  \n",
       "4                          2.93    735.0     0.0  "
      ]
     },
     "execution_count": 39,
     "metadata": {},
     "output_type": "execute_result"
    }
   ],
   "source": [
    "df = pd.DataFrame(np.column_stack([data, target]), columns=columns)\n",
    "df.head()"
   ]
  },
  {
   "cell_type": "markdown",
   "metadata": {},
   "source": [
    "## Write a function"
   ]
  },
  {
   "cell_type": "code",
   "execution_count": 40,
   "metadata": {},
   "outputs": [],
   "source": [
    "### write a function that takes in a load method \n",
    "### from sklearn datasets and returns a dataframe\n",
    "### like the one above\n",
    "def load_dataset(load_set = None):\n",
    "    pass"
   ]
  },
  {
   "cell_type": "markdown",
   "metadata": {},
   "source": [
    "### Let's look at a description"
   ]
  },
  {
   "cell_type": "code",
   "execution_count": 41,
   "metadata": {},
   "outputs": [
    {
     "name": "stdout",
     "output_type": "stream",
     "text": [
      "('.. _wine_dataset:\\n'\n",
      " '\\n'\n",
      " 'Wine recognition dataset\\n'\n",
      " '------------------------\\n'\n",
      " '\\n'\n",
      " '**Data Set Characteristics:**\\n'\n",
      " '\\n'\n",
      " '    :Number of Instances: 178 (50 in each of three classes)\\n'\n",
      " '    :Number of Attributes: 13 numeric, predictive attributes and the class\\n'\n",
      " '    :Attribute Information:\\n'\n",
      " ' \\t\\t- Alcohol\\n'\n",
      " ' \\t\\t- Malic acid\\n'\n",
      " ' \\t\\t- Ash\\n'\n",
      " '\\t\\t- Alcalinity of ash  \\n'\n",
      " ' \\t\\t- Magnesium\\n'\n",
      " '\\t\\t- Total phenols\\n'\n",
      " ' \\t\\t- Flavanoids\\n'\n",
      " ' \\t\\t- Nonflavanoid phenols\\n'\n",
      " ' \\t\\t- Proanthocyanins\\n'\n",
      " '\\t\\t- Color intensity\\n'\n",
      " ' \\t\\t- Hue\\n'\n",
      " ' \\t\\t- OD280/OD315 of diluted wines\\n'\n",
      " ' \\t\\t- Proline\\n'\n",
      " '\\n'\n",
      " '    - class:\\n'\n",
      " '            - class_0\\n'\n",
      " '            - class_1\\n'\n",
      " '            - class_2\\n'\n",
      " '\\t\\t\\n'\n",
      " '    :Summary Statistics:\\n'\n",
      " '    \\n'\n",
      " '    ============================= ==== ===== ======= =====\\n'\n",
      " '                                   Min   Max   Mean     SD\\n'\n",
      " '    ============================= ==== ===== ======= =====\\n'\n",
      " '    Alcohol:                      11.0  14.8    13.0   0.8\\n'\n",
      " '    Malic Acid:                   0.74  5.80    2.34  1.12\\n'\n",
      " '    Ash:                          1.36  3.23    2.36  0.27\\n'\n",
      " '    Alcalinity of Ash:            10.6  30.0    19.5   3.3\\n'\n",
      " '    Magnesium:                    70.0 162.0    99.7  14.3\\n'\n",
      " '    Total Phenols:                0.98  3.88    2.29  0.63\\n'\n",
      " '    Flavanoids:                   0.34  5.08    2.03  1.00\\n'\n",
      " '    Nonflavanoid Phenols:         0.13  0.66    0.36  0.12\\n'\n",
      " '    Proanthocyanins:              0.41  3.58    1.59  0.57\\n'\n",
      " '    Colour Intensity:              1.3  13.0     5.1   2.3\\n'\n",
      " '    Hue:                          0.48  1.71    0.96  0.23\\n'\n",
      " '    OD280/OD315 of diluted wines: 1.27  4.00    2.61  0.71\\n'\n",
      " '    Proline:                       278  1680     746   315\\n'\n",
      " '    ============================= ==== ===== ======= =====\\n'\n",
      " '\\n'\n",
      " '    :Missing Attribute Values: None\\n'\n",
      " '    :Class Distribution: class_0 (59), class_1 (71), class_2 (48)\\n'\n",
      " '    :Creator: R.A. Fisher\\n'\n",
      " '    :Donor: Michael Marshall (MARSHALL%PLU@io.arc.nasa.gov)\\n'\n",
      " '    :Date: July, 1988\\n'\n",
      " '\\n'\n",
      " 'This is a copy of UCI ML Wine recognition datasets.\\n'\n",
      " 'https://archive.ics.uci.edu/ml/machine-learning-databases/wine/wine.data\\n'\n",
      " '\\n'\n",
      " 'The data is the results of a chemical analysis of wines grown in the same\\n'\n",
      " 'region in Italy by three different cultivators. There are thirteen '\n",
      " 'different\\n'\n",
      " 'measurements taken for different constituents found in the three types of\\n'\n",
      " 'wine.\\n'\n",
      " '\\n'\n",
      " 'Original Owners: \\n'\n",
      " '\\n'\n",
      " 'Forina, M. et al, PARVUS - \\n'\n",
      " 'An Extendible Package for Data Exploration, Classification and '\n",
      " 'Correlation. \\n'\n",
      " 'Institute of Pharmaceutical and Food Analysis and Technologies,\\n'\n",
      " 'Via Brigata Salerno, 16147 Genoa, Italy.\\n'\n",
      " '\\n'\n",
      " 'Citation:\\n'\n",
      " '\\n'\n",
      " 'Lichman, M. (2013). UCI Machine Learning Repository\\n'\n",
      " '[http://archive.ics.uci.edu/ml]. Irvine, CA: University of California,\\n'\n",
      " 'School of Information and Computer Science. \\n'\n",
      " '\\n'\n",
      " '.. topic:: References\\n'\n",
      " '\\n'\n",
      " '  (1) S. Aeberhard, D. Coomans and O. de Vel, \\n'\n",
      " '  Comparison of Classifiers in High Dimensional Settings, \\n'\n",
      " '  Tech. Rep. no. 92-02, (1992), Dept. of Computer Science and Dept. of  \\n'\n",
      " '  Mathematics and Statistics, James Cook University of North Queensland. \\n'\n",
      " '  (Also submitted to Technometrics). \\n'\n",
      " '\\n'\n",
      " '  The data was used with many others for comparing various \\n'\n",
      " '  classifiers. The classes are separable, though only RDA \\n'\n",
      " '  has achieved 100% correct classification. \\n'\n",
      " '  (RDA : 100%, QDA 99.4%, LDA 98.9%, 1NN 96.1% (z-transformed data)) \\n'\n",
      " '  (All results using the leave-one-out technique) \\n'\n",
      " '\\n'\n",
      " '  (2) S. Aeberhard, D. Coomans and O. de Vel, \\n'\n",
      " '  \"THE CLASSIFICATION PERFORMANCE OF RDA\" \\n'\n",
      " '  Tech. Rep. no. 92-01, (1992), Dept. of Computer Science and Dept. of \\n'\n",
      " '  Mathematics and Statistics, James Cook University of North Queensland. \\n'\n",
      " '  (Also submitted to Journal of Chemometrics).\\n')\n"
     ]
    }
   ],
   "source": [
    "pprint(wine.DESCR)"
   ]
  },
  {
   "cell_type": "code",
   "execution_count": 44,
   "metadata": {},
   "outputs": [],
   "source": [
    "### calculate the mean of malic acid without using .mean() or np.mean()\n",
    "mean_malic_acid = None\n",
    "mean_malic_acid"
   ]
  },
  {
   "cell_type": "code",
   "execution_count": 46,
   "metadata": {},
   "outputs": [],
   "source": [
    "### calculate the standard deviation of malic acid without using .std() or np.std()\n",
    "std_malic_acid = None\n",
    "std_malic_acid"
   ]
  },
  {
   "cell_type": "code",
   "execution_count": 47,
   "metadata": {},
   "outputs": [],
   "source": [
    "### write functions that takes in a list and returns the mean and standard deviation\n",
    "def mean_function():\n",
    "    pass\n",
    "\n",
    "def std_function():\n",
    "    pass"
   ]
  },
  {
   "cell_type": "code",
   "execution_count": null,
   "metadata": {},
   "outputs": [],
   "source": [
    "### test your function against a different column in the dataframe\n",
    "column = None\n",
    "mean_function(df[column]) == df[column].mean(), std_function(df[column]) == df[column].std()"
   ]
  },
  {
   "cell_type": "markdown",
   "metadata": {},
   "source": [
    "### Plot Distribution"
   ]
  },
  {
   "cell_type": "code",
   "execution_count": 52,
   "metadata": {},
   "outputs": [],
   "source": [
    "### plot the distribution of alcohol content\n",
    "### code goes here\n"
   ]
  },
  {
   "cell_type": "code",
   "execution_count": 53,
   "metadata": {},
   "outputs": [],
   "source": [
    "### write a function that takes in a dataframe and column name and returns a histogram\n",
    "### the histogram must have labeled axes and a title\n",
    "\n",
    "def histogram():\n",
    "    pass"
   ]
  },
  {
   "cell_type": "markdown",
   "metadata": {},
   "source": [
    "### Creating columns with pandas"
   ]
  },
  {
   "cell_type": "code",
   "execution_count": 49,
   "metadata": {},
   "outputs": [],
   "source": [
    "### create a new column that is the ratio of ash to malic acid and name it\n",
    "### ash_to_malic_acid\n",
    "\n",
    "# code goes here"
   ]
  },
  {
   "cell_type": "code",
   "execution_count": null,
   "metadata": {},
   "outputs": [],
   "source": []
  }
 ],
 "metadata": {
  "kernelspec": {
   "display_name": "Python 3",
   "language": "python",
   "name": "python3"
  },
  "language_info": {
   "codemirror_mode": {
    "name": "ipython",
    "version": 3
   },
   "file_extension": ".py",
   "mimetype": "text/x-python",
   "name": "python",
   "nbconvert_exporter": "python",
   "pygments_lexer": "ipython3",
   "version": "3.6.4"
  }
 },
 "nbformat": 4,
 "nbformat_minor": 2
}
